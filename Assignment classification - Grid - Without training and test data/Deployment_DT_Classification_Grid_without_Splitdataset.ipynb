{
 "cells": [
  {
   "cell_type": "code",
   "execution_count": 1,
   "id": "063cf1b1-19ef-493c-a76e-a0e1888a8b8b",
   "metadata": {},
   "outputs": [],
   "source": [
    "import pickle"
   ]
  },
  {
   "cell_type": "code",
   "execution_count": 2,
   "id": "75ce058f-e497-4ea8-b808-c0ceff483eeb",
   "metadata": {},
   "outputs": [],
   "source": [
    "sc=pickle.load(open(\"sc.pkl\",'rb'))"
   ]
  },
  {
   "cell_type": "code",
   "execution_count": 3,
   "id": "22492b30-5993-4935-a5b6-7b1e04c30d9c",
   "metadata": {},
   "outputs": [
    {
     "name": "stderr",
     "output_type": "stream",
     "text": [
      "C:\\Users\\91805\\anaconda3\\Lib\\site-packages\\sklearn\\base.py:493: UserWarning: X does not have valid feature names, but StandardScaler was fitted with feature names\n",
      "  warnings.warn(\n"
     ]
    }
   ],
   "source": [
    "preinput=sc.transform([[2,76.45995,3,0,148.1127,57.48211,3.077356,137.5288,4.627244,12.51816,38.8689,8408.191,4.705597,0,0,0,0,1,0,0,0,0,0,0,1,1,0]])"
   ]
  },
  {
   "cell_type": "code",
   "execution_count": 4,
   "id": "75c9b611-41ad-456e-8a36-55bf251c1f6a",
   "metadata": {},
   "outputs": [
    {
     "data": {
      "text/plain": [
       "array([[-2.91575992e+00,  1.24644315e-07,  1.59943471e+00,\n",
       "        -3.80814665e-01,  3.20164973e-07,  9.61353834e-08,\n",
       "        -3.72902956e-09,  4.99822314e-06,  1.45472385e-07,\n",
       "         1.61496646e-06, -2.99396651e-07, -5.00212718e-08,\n",
       "        -1.77985071e-08, -5.04694939e-01, -5.16397779e-01,\n",
       "        -4.81125224e-01, -1.33630621e-01,  3.65407618e-01,\n",
       "        -2.06155281e+00, -3.42997170e-01, -2.41568702e-01,\n",
       "        -7.59654592e-01, -7.19103794e-01, -3.05205971e-01,\n",
       "         5.12501930e-01,  2.04494943e+00, -4.20703162e-01]])"
      ]
     },
     "execution_count": 4,
     "metadata": {},
     "output_type": "execute_result"
    }
   ],
   "source": [
    "preinput"
   ]
  },
  {
   "cell_type": "code",
   "execution_count": 10,
   "id": "6cb5a402-0007-4221-a57e-6a7c4e71c8a1",
   "metadata": {},
   "outputs": [],
   "source": [
    "loaded_model=pickle.load(open(\"Best_model_classification_without_split data-DT.sav\",'rb'))"
   ]
  },
  {
   "cell_type": "code",
   "execution_count": 12,
   "id": "67faedf6-4041-4521-baa6-0d9d83539f03",
   "metadata": {},
   "outputs": [],
   "source": [
    "result=loaded_model.predict(preinput)"
   ]
  },
  {
   "cell_type": "code",
   "execution_count": 14,
   "id": "da025cef-a735-4e14-8162-09ca7f6709d3",
   "metadata": {},
   "outputs": [
    {
     "data": {
      "text/plain": [
       "array([1])"
      ]
     },
     "execution_count": 14,
     "metadata": {},
     "output_type": "execute_result"
    }
   ],
   "source": [
    "result"
   ]
  },
  {
   "cell_type": "code",
   "execution_count": null,
   "id": "e4574b36-9f8f-4d47-ad6a-6c5b39b6394b",
   "metadata": {},
   "outputs": [],
   "source": []
  }
 ],
 "metadata": {
  "kernelspec": {
   "display_name": "Python 3 (ipykernel)",
   "language": "python",
   "name": "python3"
  },
  "language_info": {
   "codemirror_mode": {
    "name": "ipython",
    "version": 3
   },
   "file_extension": ".py",
   "mimetype": "text/x-python",
   "name": "python",
   "nbconvert_exporter": "python",
   "pygments_lexer": "ipython3",
   "version": "3.12.4"
  }
 },
 "nbformat": 4,
 "nbformat_minor": 5
}

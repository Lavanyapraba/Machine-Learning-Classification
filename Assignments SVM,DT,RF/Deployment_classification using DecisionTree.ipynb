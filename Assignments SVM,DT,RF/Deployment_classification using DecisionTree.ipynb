{
 "cells": [
  {
   "cell_type": "code",
   "execution_count": 1,
   "id": "258f940a-dd0d-4cdc-93fc-55321519a850",
   "metadata": {},
   "outputs": [],
   "source": [
    "import pickle "
   ]
  },
  {
   "cell_type": "code",
   "execution_count": 2,
   "id": "4bf5bc4e-7bc6-4dc6-ab41-2742f16f8b1a",
   "metadata": {},
   "outputs": [],
   "source": [
    "loaded_model=pickle.load(open(\"finalized_model_classification.sav\",'rb'))"
   ]
  },
  {
   "cell_type": "code",
   "execution_count": 3,
   "id": "84b68ecc-259f-4dad-94b6-d58d7ae65d42",
   "metadata": {},
   "outputs": [
    {
     "name": "stdin",
     "output_type": "stream",
     "text": [
      "Male 0 or 1: 0\n",
      "Age: 40\n",
      "EstimatedSalary: 30000\n"
     ]
    }
   ],
   "source": [
    "Gender=input(\"Male 0 or 1:\")\n",
    "Age=int(input(\"Age:\"))\n",
    "EstimatedSalary=int(input(\"EstimatedSalary:\"))"
   ]
  },
  {
   "cell_type": "code",
   "execution_count": 4,
   "id": "cdeb3cac-9cc4-4726-8018-13b6c7dfda77",
   "metadata": {},
   "outputs": [
    {
     "name": "stderr",
     "output_type": "stream",
     "text": [
      "C:\\Users\\91805\\anaconda3\\Lib\\site-packages\\sklearn\\base.py:493: UserWarning: X does not have valid feature names, but DecisionTreeClassifier was fitted with feature names\n",
      "  warnings.warn(\n"
     ]
    }
   ],
   "source": [
    "result=loaded_model.predict([[Gender,Age,EstimatedSalary]])"
   ]
  },
  {
   "cell_type": "code",
   "execution_count": 5,
   "id": "db96b684-4753-4f06-984b-51d423db62fa",
   "metadata": {},
   "outputs": [
    {
     "data": {
      "text/plain": [
       "array([0], dtype=int64)"
      ]
     },
     "execution_count": 5,
     "metadata": {},
     "output_type": "execute_result"
    }
   ],
   "source": [
    "result"
   ]
  },
  {
   "cell_type": "code",
   "execution_count": null,
   "id": "23169acd-2672-4f5d-a2e6-4847ea358cc6",
   "metadata": {},
   "outputs": [],
   "source": []
  }
 ],
 "metadata": {
  "kernelspec": {
   "display_name": "Python 3 (ipykernel)",
   "language": "python",
   "name": "python3"
  },
  "language_info": {
   "codemirror_mode": {
    "name": "ipython",
    "version": 3
   },
   "file_extension": ".py",
   "mimetype": "text/x-python",
   "name": "python",
   "nbconvert_exporter": "python",
   "pygments_lexer": "ipython3",
   "version": "3.12.4"
  }
 },
 "nbformat": 4,
 "nbformat_minor": 5
}

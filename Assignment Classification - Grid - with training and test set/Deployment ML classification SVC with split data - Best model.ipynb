{
 "cells": [
  {
   "cell_type": "code",
   "execution_count": 1,
   "id": "64dcd519-4629-4133-bebf-bf31977f3a4c",
   "metadata": {},
   "outputs": [],
   "source": [
    "import pickle\n",
    "sc=pickle.load(open(\"sc.pkl\",'rb'))"
   ]
  },
  {
   "cell_type": "code",
   "execution_count": 2,
   "id": "d92960c6-c398-4f1d-beaa-2adda10fc265",
   "metadata": {},
   "outputs": [],
   "source": [
    "loaded_model=pickle.load(open(\"Best classification model with split data using Grid.sav\",'rb'))"
   ]
  },
  {
   "cell_type": "code",
   "execution_count": 3,
   "id": "0981313a-18ac-478e-94d4-2cc4c46c6bac",
   "metadata": {},
   "outputs": [
    {
     "name": "stdin",
     "output_type": "stream",
     "text": [
      "Enter you age: 27\n",
      "Enter you estimated salary: 68000\n",
      "Enter 0 if male or else1: 1\n"
     ]
    }
   ],
   "source": [
    "Age=int(input(\"Enter you age:\"))\n",
    "Estimatedsalary=int(input(\"Enter you estimated salary:\"))\n",
    "Gender_Male=int(input(\"Enter 0 if male or else1:\"))"
   ]
  },
  {
   "cell_type": "code",
   "execution_count": 7,
   "id": "202bc188-1911-443c-936f-f96572b6d11d",
   "metadata": {},
   "outputs": [
    {
     "name": "stderr",
     "output_type": "stream",
     "text": [
      "C:\\Users\\91805\\anaconda3\\Lib\\site-packages\\sklearn\\base.py:493: UserWarning: X does not have valid feature names, but StandardScaler was fitted with feature names\n",
      "  warnings.warn(\n"
     ]
    }
   ],
   "source": [
    "preinput=sc.transform([[27,68000,1]])"
   ]
  },
  {
   "cell_type": "code",
   "execution_count": 9,
   "id": "78cdff00-1c22-4679-9c0b-3a5fc0870291",
   "metadata": {},
   "outputs": [],
   "source": [
    "result=loaded_model.predict(preinput)"
   ]
  },
  {
   "cell_type": "code",
   "execution_count": 11,
   "id": "dd7103a1-857e-4a10-b808-1832b48ec73e",
   "metadata": {},
   "outputs": [
    {
     "data": {
      "text/plain": [
       "array([0], dtype=int64)"
      ]
     },
     "execution_count": 11,
     "metadata": {},
     "output_type": "execute_result"
    }
   ],
   "source": [
    "result"
   ]
  },
  {
   "cell_type": "code",
   "execution_count": null,
   "id": "e1636f88-7a4e-4a66-8b0d-42c13a74eab9",
   "metadata": {},
   "outputs": [],
   "source": []
  }
 ],
 "metadata": {
  "kernelspec": {
   "display_name": "Python 3 (ipykernel)",
   "language": "python",
   "name": "python3"
  },
  "language_info": {
   "codemirror_mode": {
    "name": "ipython",
    "version": 3
   },
   "file_extension": ".py",
   "mimetype": "text/x-python",
   "name": "python",
   "nbconvert_exporter": "python",
   "pygments_lexer": "ipython3",
   "version": "3.12.4"
  }
 },
 "nbformat": 4,
 "nbformat_minor": 5
}
